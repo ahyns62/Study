{
 "cells": [
  {
   "cell_type": "code",
   "execution_count": 2,
   "id": "327b4d12",
   "metadata": {},
   "outputs": [
    {
     "name": "stdout",
     "output_type": "stream",
     "text": [
      "6\n"
     ]
    }
   ],
   "source": [
    "# 거스름 돈\n",
    "\n",
    "n = 1260\n",
    "count = 0\n",
    "\n",
    "array = [500, 100, 50, 10]\n",
    "\n",
    "for coin in array:\n",
    "    count += n // coin\n",
    "    n %= coin\n",
    "    \n",
    "print(count)"
   ]
  },
  {
   "cell_type": "code",
   "execution_count": null,
   "id": "7ebe73f9",
   "metadata": {},
   "outputs": [],
   "source": [
    "# 1이 될 때까지\n",
    "\n",
    "#N, K을 공백을 기준으로 구분하여 입력 받기\n",
    "N, K = map(int, input().split())\n",
    "result = 0\n",
    "\n",
    "while True:\n",
    "    # N이 K로 나누어 떨어지는 수가 될 때까지 빼기\n",
    "    target = (N // K) * K\n",
    "    result += (N - target)\n",
    "    N = target\n",
    "    # N이 K보다 작으면 반복문 탈출\n",
    "    if N < K:\n",
    "        break\n",
    "    # K로 나누기\n",
    "    else:\n",
    "        result += 1\n",
    "        N //= K\n",
    "        \n",
    "# 마지막으로 남은 수에 대해 1씩 빼기\n",
    "result += (N - 1)\n",
    "print(result)"
   ]
  },
  {
   "cell_type": "code",
   "execution_count": 9,
   "id": "74ff2aea",
   "metadata": {},
   "outputs": [
    {
     "name": "stdout",
     "output_type": "stream",
     "text": [
      "567\n",
      "210\n"
     ]
    }
   ],
   "source": [
    "# 곱하기 혹은 더하기\n",
    "\n",
    "#문자열 S 입력 받기\n",
    "S = input()\n",
    "\n",
    "# 첫 번째 문자를 숫자로 변경해서 대입\n",
    "result = int(S[0])\n",
    "\n",
    "for i in range(1, len(S)):\n",
    "    num = int(S[i])\n",
    "    if (result <= 1) or (num <= 1):\n",
    "        result += num\n",
    "    else:\n",
    "        result *= num\n",
    "        \n",
    "print(result)"
   ]
  },
  {
   "cell_type": "code",
   "execution_count": null,
   "id": "cfcd74ef",
   "metadata": {},
   "outputs": [],
   "source": [
    "# 모험가 길드\n",
    "\n",
    "N = int(input())\n",
    "data = list(map(int, input().split()))\n",
    "data.sort() # 오름차순\n",
    "\n",
    "result = 0 # 총 그룹 수\n",
    "member = 0 # 현재 그룹에 포함된 모험가 수\n",
    "\n",
    "# 공포도가 낮은 것부터 하나씩 확인하기\n",
    "for i in data:\n",
    "    member += 1 # 현재 그룹에 해당 모험가 포함\n",
    "    if member >= i: # 만약 모험가 수가 공포도 이상이면, 그룹 생성\n",
    "        result += 1 # 그룹 수 증가\n",
    "        member = 0 # 현재 그룹에 포함된 모험가 수 초기화\n",
    "        \n",
    "print(result) "
   ]
  },
  {
   "cell_type": "code",
   "execution_count": 7,
   "id": "88b2daac",
   "metadata": {},
   "outputs": [
    {
     "name": "stdout",
     "output_type": "stream",
     "text": [
      "5\n",
      "R R R U D D\n",
      "3 4\n"
     ]
    }
   ],
   "source": [
    "# 상하좌우\n",
    "\n",
    "N = int(input())\n",
    "plans = input().split()\n",
    "x, y = 1, 1\n",
    "\n",
    "# L, R, U, D에 따른 이동 방향\n",
    "dx = [0, 0, -1, 1]\n",
    "dy = [-1, 1, 0, 0]\n",
    "move_types = ['L', 'R', 'U', 'D']\n",
    "\n",
    "for plan in plans:\n",
    "    # 이동 후 좌표 구하기\n",
    "    for i in range(len(move_types)):\n",
    "        if plan == move_types[i]:\n",
    "            nx = x + dx[i]\n",
    "            ny = y + dy[i]\n",
    "            \n",
    "    # 공간을 벗어나는 경우\n",
    "    if nx < 1 or ny < 1 or nx > N or ny > N:\n",
    "        continue\n",
    "    # 이동 수행    \n",
    "    x, y = nx, ny\n",
    "\n",
    "print(x, y)"
   ]
  },
  {
   "cell_type": "code",
   "execution_count": 8,
   "id": "e0f38f46",
   "metadata": {},
   "outputs": [
    {
     "name": "stdout",
     "output_type": "stream",
     "text": [
      "5\n",
      "11475\n"
     ]
    }
   ],
   "source": [
    "# 시각\n",
    "\n",
    "N = int(input())\n",
    "count = 0\n",
    "\n",
    "for i in range(N + 1):\n",
    "    for j in range(60):\n",
    "        for k in range(60):\n",
    "            if '3' in str(i) + str(j) + str(k):\n",
    "                count += 1\n",
    "print(count)"
   ]
  },
  {
   "cell_type": "code",
   "execution_count": 11,
   "id": "d23660cb",
   "metadata": {},
   "outputs": [
    {
     "name": "stdout",
     "output_type": "stream",
     "text": [
      "b5\n",
      "6\n"
     ]
    }
   ],
   "source": [
    "# 왕실의 나이트\n",
    "\n",
    "input_data = input()\n",
    "row = int(input_data[1])\n",
    "column = int(ord(input_data[0])) - int(ord('a')) + 1 # 아스키 코드\n",
    "\n",
    "# 이동할 수 있는 방향\n",
    "steps = [(-2, -1), (-2, 1), (2, -1), (2, 1), (-1, -2), (-1, 2), (1, -2), (1, 2)]\n",
    "\n",
    "result = 0\n",
    "for step in steps:\n",
    "    # 이동 위치 확인\n",
    "    next_row = row + step[0]\n",
    "    next_column = column + step[1]\n",
    "    \n",
    "    if next_row >= 1 and next_row <= 8 and next_column >= 1 and next_column <= 8:\n",
    "        result += 1\n",
    "        \n",
    "print(result)"
   ]
  },
  {
   "cell_type": "code",
   "execution_count": 12,
   "id": "c1a5c4d5",
   "metadata": {},
   "outputs": [
    {
     "name": "stdout",
     "output_type": "stream",
     "text": [
      "K1KA5CB7\n",
      "ABCKK13\n"
     ]
    }
   ],
   "source": [
    "# 문자열 재정렬\n",
    "S = input()\n",
    "result = []\n",
    "value = 0\n",
    "\n",
    "for i in S:\n",
    "    # 알파벳인 경우\n",
    "    if i.isalpha():\n",
    "        result.append(i)\n",
    "    # 숫자인 경우\n",
    "    else:\n",
    "        value += int(i)\n",
    "        \n",
    "result.sort()\n",
    "\n",
    "if value != 0:\n",
    "    result.append(str(value)) # 숫자를 문자열로 바꾸고 추가\n",
    "\n",
    "# 리스트를 문자열로 변환하여 출력\n",
    "print(\"\".join(result))"
   ]
  },
  {
   "cell_type": "code",
   "execution_count": null,
   "id": "cde1007a",
   "metadata": {},
   "outputs": [],
   "source": []
  }
 ],
 "metadata": {
  "kernelspec": {
   "display_name": "Python 3",
   "language": "python",
   "name": "python3"
  },
  "language_info": {
   "codemirror_mode": {
    "name": "ipython",
    "version": 3
   },
   "file_extension": ".py",
   "mimetype": "text/x-python",
   "name": "python",
   "nbconvert_exporter": "python",
   "pygments_lexer": "ipython3",
   "version": "3.8.8"
  }
 },
 "nbformat": 4,
 "nbformat_minor": 5
}
