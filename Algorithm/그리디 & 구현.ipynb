{
 "cells": [
  {
   "cell_type": "code",
   "execution_count": 2,
   "id": "327b4d12",
   "metadata": {},
   "outputs": [
    {
     "name": "stdout",
     "output_type": "stream",
     "text": [
      "6\n"
     ]
    }
   ],
   "source": [
    "# 거스름 돈\n",
    "\n",
    "n = 1260\n",
    "count = 0\n",
    "\n",
    "array = [500, 100, 50, 10]\n",
    "\n",
    "for coin in array:\n",
    "    count += n // coin\n",
    "    n %= coin\n",
    "    \n",
    "print(count)"
   ]
  },
  {
   "cell_type": "code",
   "execution_count": null,
   "id": "7ebe73f9",
   "metadata": {},
   "outputs": [],
   "source": [
    "# 1이 될 때까지\n",
    "\n",
    "#N, K을 공백을 기준으로 구분하여 입력 받기\n",
    "N, K = map(int, input().split())\n",
    "result = 0\n",
    "\n",
    "while True:\n",
    "    # N이 K로 나누어 떨어지는 수가 될 때까지 빼기\n",
    "    target = (N // K) * K\n",
    "    result += (N - target)\n",
    "    N = target\n",
    "    # N이 K보다 작으면 반복문 탈출\n",
    "    if N < K:\n",
    "        break\n",
    "    # K로 나누기\n",
    "    else:\n",
    "        result += 1\n",
    "        N //= K\n",
    "        \n",
    "# 마지막으로 남은 수에 대해 1씩 빼기\n",
    "result += (N - 1)\n",
    "print(result)"
   ]
  },
  {
   "cell_type": "code",
   "execution_count": 9,
   "id": "74ff2aea",
   "metadata": {},
   "outputs": [
    {
     "name": "stdout",
     "output_type": "stream",
     "text": [
      "567\n",
      "210\n"
     ]
    }
   ],
   "source": [
    "# 곱하기 혹은 더하기\n",
    "\n",
    "#문자열 S 입력 받기\n",
    "S = input()\n",
    "\n",
    "# 첫 번째 문자를 숫자로 변경해서 대입\n",
    "result = int(S[0])\n",
    "\n",
    "for i in range(1, len(S)):\n",
    "    num = int(S[i])\n",
    "    if (result <= 1) or (num <= 1):\n",
    "        result += num\n",
    "    else:\n",
    "        result *= num\n",
    "        \n",
    "print(result)"
   ]
  },
  {
   "cell_type": "code",
   "execution_count": null,
   "id": "cfcd74ef",
   "metadata": {},
   "outputs": [],
   "source": [
    "# 모험가 길드\n",
    "\n",
    "N = int(input())\n",
    "data = list(map(int, input().split()))\n",
    "data.sort() # 오름차순\n",
    "\n",
    "result = 0 # 총 그룹 수\n",
    "member = 0 # 현재 그룹에 포함된 모험가 수\n",
    "\n",
    "# 공포도가 낮은 것부터 하나씩 확인하기\n",
    "for i in data:\n",
    "    member += 1 # 현재 그룹에 해당 모험가 포함\n",
    "    if member >= i: # 만약 모험가 수가 공포도 이상이면, 그룹 생성\n",
    "        result += 1 # 그룹 수 증가\n",
    "        member = 0 # 현재 그룹에 포함된 모험가 수 초기화\n",
    "        \n",
    "print(result) "
   ]
  },
  {
   "cell_type": "code",
   "execution_count": 7,
   "id": "88b2daac",
   "metadata": {},
   "outputs": [
    {
     "name": "stdout",
     "output_type": "stream",
     "text": [
      "5\n",
      "R R R U D D\n",
      "3 4\n"
     ]
    }
   ],
   "source": [
    "# 상하좌우\n",
    "\n",
    "N = int(input())\n",
    "plans = input().split()\n",
    "x, y = 1, 1\n",
    "\n",
    "# L, R, U, D에 따른 이동 방향\n",
    "dx = [0, 0, -1, 1]\n",
    "dy = [-1, 1, 0, 0]\n",
    "move_types = ['L', 'R', 'U', 'D']\n",
    "\n",
    "for plan in plans:\n",
    "    # 이동 후 좌표 구하기\n",
    "    for i in range(len(move_types)):\n",
    "        if plan == move_types[i]:\n",
    "            nx = x + dx[i]\n",
    "            ny = y + dy[i]\n",
    "            \n",
    "    # 공간을 벗어나는 경우\n",
    "    if nx < 1 or ny < 1 or nx > N or ny > N:\n",
    "        continue\n",
    "    # 이동 수행    \n",
    "    x, y = nx, ny\n",
    "\n",
    "print(x, y)"
   ]
  },
  {
   "cell_type": "code",
   "execution_count": 8,
   "id": "e0f38f46",
   "metadata": {},
   "outputs": [
    {
     "name": "stdout",
     "output_type": "stream",
     "text": [
      "5\n",
      "11475\n"
     ]
    }
   ],
   "source": [
    "# 시각\n",
    "\n",
    "N = int(input())\n",
    "count = 0\n",
    "\n",
    "for i in range(N + 1):\n",
    "    for j in range(60):\n",
    "        for k in range(60):\n",
    "            if '3' in str(i) + str(j) + str(k):\n",
    "                count += 1\n",
    "print(count)"
   ]
  },
  {
   "cell_type": "code",
   "execution_count": 11,
   "id": "d23660cb",
   "metadata": {},
   "outputs": [
    {
     "name": "stdout",
     "output_type": "stream",
     "text": [
      "b5\n",
      "6\n"
     ]
    }
   ],
   "source": [
    "# 왕실의 나이트\n",
    "\n",
    "input_data = input()\n",
    "row = int(input_data[1])\n",
    "column = int(ord(input_data[0])) - int(ord('a')) + 1 # 아스키 코드\n",
    "\n",
    "# 이동할 수 있는 방향\n",
    "steps = [(-2, -1), (-2, 1), (2, -1), (2, 1), (-1, -2), (-1, 2), (1, -2), (1, 2)]\n",
    "\n",
    "result = 0\n",
    "for step in steps:\n",
    "    # 이동 위치 확인\n",
    "    next_row = row + step[0]\n",
    "    next_column = column + step[1]\n",
    "    \n",
    "    if next_row >= 1 and next_row <= 8 and next_column >= 1 and next_column <= 8:\n",
    "        result += 1\n",
    "        \n",
    "print(result)"
   ]
  },
  {
   "cell_type": "code",
   "execution_count": 12,
   "id": "c1a5c4d5",
   "metadata": {},
   "outputs": [
    {
     "name": "stdout",
     "output_type": "stream",
     "text": [
      "K1KA5CB7\n",
      "ABCKK13\n"
     ]
    }
   ],
   "source": [
    "# 문자열 재정렬\n",
    "S = input()\n",
    "result = []\n",
    "value = 0\n",
    "\n",
    "for i in S:\n",
    "    # 알파벳인 경우\n",
    "    if i.isalpha():\n",
    "        result.append(i)\n",
    "    # 숫자인 경우\n",
    "    else:\n",
    "        value += int(i)\n",
    "        \n",
    "result.sort()\n",
    "\n",
    "if value != 0:\n",
    "    result.append(str(value)) # 숫자를 문자열로 바꾸고 추가\n",
    "\n",
    "# 리스트를 문자열로 변환하여 출력\n",
    "print(\"\".join(result))"
   ]
  },
  {
   "cell_type": "code",
   "execution_count": 3,
   "id": "cde1007a",
   "metadata": {},
   "outputs": [
    {
     "name": "stdout",
     "output_type": "stream",
     "text": [
      "80875542\n",
      "88755420\n"
     ]
    }
   ],
   "source": [
    "# 그리디 10610\n",
    "\n",
    "# 30의 배수 : 자릿수 다 더하면 3의 배수, 맨 끝 자리가 0\n",
    "N = input()\n",
    "N = sorted(N, reverse=True)\n",
    "sum = 0\n",
    "\n",
    "if '0' not in N:\n",
    "    print(-1)\n",
    "else:\n",
    "    for i in N:\n",
    "        sum += int(i)\n",
    "    if sum % 3 != 0:\n",
    "        print(-1)\n",
    "    else:\n",
    "        print(\"\".join(N))\n"
   ]
  },
  {
   "cell_type": "code",
   "execution_count": 2,
   "id": "d6be7e44",
   "metadata": {},
   "outputs": [
    {
     "name": "stdout",
     "output_type": "stream",
     "text": [
      "2\n",
      "{}\n",
      "0\n"
     ]
    }
   ],
   "source": [
    "# 그리디 1339\n",
    "\n",
    "# 값을 큰 순서대로. 그리디 분류. * 우선순위 생각하기\n",
    "\n",
    "# 문제 요구사항: 두 수의 합이 최대값이 되도록 만들기\n",
    "## 먼저 숫자를 입력받고, 그 수만큼 문자열 입력받음 (sys library 사용)\n",
    "## 알파벳별로 자릿수대로 10의 배수 더하기 (만의 자리: * 10000, 천의 자리: * 1000...)\n",
    "## 곱한 값을 정렬, 값이 큰 알파벳부터 차례로 9부터 0까지의 숫자를 부여\n",
    "## 알파벳들을 다 더한 최종 결과 출력\n",
    "\n",
    "## word_ls: 문자들의 리스트, n=2이고, 단어가 GCF, ACDEB라면, word_ls = [GCF, ACDEB]\n",
    "## ex) word_ls[0][2] = GCF의 F에 해당\n",
    "## alphabet_dict: 알파벳별로 10의 n승을 더해준 뒤 저장할 딕셔너리\n",
    "## 10자릿수대로 10의 n승을 더한다면, alphabet_dict = {G:100, C:1010, F:1, A:10000, D:100, E:10, B:1}\n",
    "\n",
    "### sys.stdin.readline(): 여러줄을 입력받을때 사용하는 라이브러리\n",
    "### 문자열 n줄을 입력받아 리스트에 저장할때: [sys.stdin.readline().strip() for i in range(n)]\n",
    "\n",
    "import sys\n",
    "\n",
    "word_ls = [] \n",
    "alphabet_dict = {}\n",
    "\n",
    "# 숫자와 알파벳 리스트 입력받기\n",
    "n = int(input()) \n",
    "for i in range(n):\n",
    "    word_ls.append(list(sys.stdin.readline().strip()))\n",
    "\n",
    "# 자릿수대로 10의 n승 더하기\n",
    "for i in range(n):\n",
    "    for j in range(len(word_ls[i])):\n",
    "        if word_ls[i][j] not in alphabet_dict:\n",
    "            alphabet_dict[word_ls[i][j]] = pow(10, len(word_ls[i])-j-1) # 새로 등장한 알파벳이라면 딕셔너리에 추가\n",
    "        else:\n",
    "            alphabet_dict[word_ls[i][j]] += pow(10, len(word_ls[i])-j-1) # 이미 등록된 알파벳이라면 10의n승 더하기\n",
    "\n",
    "# 딕셔너리의 value 값을 기준으로 정렬\n",
    "sort_list = sorted(alphabet_dict.items(), key=lambda x:x[1], reverse=True)\n",
    "\n",
    "print(alphabet_dict)\n",
    "# result = 해당 알파벳에 최종으로 부여될 숫자, num을 9부터 0까지 1씩 줄여가며 result 값을 확정\n",
    "# ex) GCF, ACDEB의 sort_list = [('A', 10000), ('C', 1010), ('G', 100), ('D', 100), ('E', 10), ('F', 1), ('B', 1)]\n",
    "# 따라서 result = A(9 * 10000) + C(8 * 1010) + G(7 * 100) + ....\n",
    "# result = 최종적으로 알파벳에 대입될 숫자. num = 9부터 차례대로 1씩 줄어들면서 알파벳에 대입시킬 숫자\n",
    "result, num = 0, 9\n",
    "for i in range(len(sort_list)):\n",
    "    result += num*sort_list[i][1]\n",
    "    num -= 1\n",
    "\n",
    "print(result)"
   ]
  },
  {
   "cell_type": "code",
   "execution_count": 7,
   "id": "7eab8cb5",
   "metadata": {},
   "outputs": [
    {
     "name": "stdout",
     "output_type": "stream",
     "text": [
      "mobitel\n",
      "bometil\n"
     ]
    }
   ],
   "source": [
    "# 구현 1251\n",
    "# 단어를 세 단어로 나눔 -> 뒤집어주기 -> 합친 뒤에 다른 리스트 저장 -> 하나로 만들고 sort -> 그 중 가장 첫번째 단어\n",
    "S = list(input())\n",
    "ans = []\n",
    "tmp = []\n",
    "\n",
    "# 범위 설정하여 문자열 나누기\n",
    "for i in range(1, len(S) - 1):\n",
    "    for j in range(i + 1, len(S)):\n",
    "        a = S[:i]\n",
    "        b = S[i:j]\n",
    "        c = S[j:]\n",
    "        a.reverse()\n",
    "        b.reverse()\n",
    "        c.reverse()\n",
    "        tmp.append(a + b + c)\n",
    "        \n",
    "# 단어 붙이기\n",
    "for k in tmp:\n",
    "    ans.append(''.join(k))\n",
    "\n",
    "# 가장 첫번째 단어 출력\n",
    "print(sorted(ans)[0])"
   ]
  },
  {
   "cell_type": "code",
   "execution_count": null,
   "id": "608d5d46",
   "metadata": {},
   "outputs": [],
   "source": [
    "# 구현 1360\n",
    "\n",
    "# 1) stack 이용 -> 마지막\n",
    "# (t일때의 단어의 상태, t)\n",
    "# 2) 구현 이용 cmd, text, time [(a,1), (ab,2), (abc,3)]\n",
    "\n",
    "# 명령(cmd)과 시간(time) 입력 각각 받기\n",
    "# 시간과 텍스트 같이 저장하는 리스트(li), 현재 텍스트 리스트(now),\n",
    "# type인 경우 -> 현재 텍스트에 추가, 저장된 리스트(시간과 텍스트)에 넣기\n",
    "# undo인 경우 -> \n",
    "\n",
    "N = input()\n",
    "for i in N:\n",
    "    input()"
   ]
  }
 ],
 "metadata": {
  "kernelspec": {
   "display_name": "Python 3",
   "language": "python",
   "name": "python3"
  },
  "language_info": {
   "codemirror_mode": {
    "name": "ipython",
    "version": 3
   },
   "file_extension": ".py",
   "mimetype": "text/x-python",
   "name": "python",
   "nbconvert_exporter": "python",
   "pygments_lexer": "ipython3",
   "version": "3.8.8"
  }
 },
 "nbformat": 4,
 "nbformat_minor": 5
}
